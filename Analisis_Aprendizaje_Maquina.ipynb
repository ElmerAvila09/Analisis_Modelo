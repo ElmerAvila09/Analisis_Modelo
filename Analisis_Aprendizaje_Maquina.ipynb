{
  "nbformat": 4,
  "nbformat_minor": 0,
  "metadata": {
    "colab": {
      "provenance": [],
      "collapsed_sections": [],
      "toc_visible": true,
      "authorship_tag": "ABX9TyNGgdT+4bffQPjIMOI513Ds"
    },
    "kernelspec": {
      "name": "python3",
      "display_name": "Python 3"
    },
    "language_info": {
      "name": "python"
    }
  },
  "cells": [
    {
      "cell_type": "markdown",
      "source": [
        "## Importacion de los datos"
      ],
      "metadata": {
        "id": "7UIkpEcE6rDV"
      }
    },
    {
      "cell_type": "code",
      "execution_count": 464,
      "metadata": {
        "colab": {
          "base_uri": "https://localhost:8080/"
        },
        "id": "2WdWWysgyAHR",
        "outputId": "445d750c-a338-44e6-c6a9-4da96362fe67"
      },
      "outputs": [
        {
          "output_type": "stream",
          "name": "stdout",
          "text": [
            "<class 'pandas.core.frame.DataFrame'>\n",
            "RangeIndex: 276 entries, 0 to 275\n",
            "Data columns (total 9 columns):\n",
            " #   Column             Non-Null Count  Dtype  \n",
            "---  ------             --------------  -----  \n",
            " 0   Fecha              276 non-null    object \n",
            " 1   Hora               276 non-null    object \n",
            " 2   Nombre             276 non-null    object \n",
            " 3   Calorias (Cal)     276 non-null    int64  \n",
            " 4   Carbohidratos (g)  276 non-null    float64\n",
            " 5   Lipidos (g)        276 non-null    float64\n",
            " 6   Proteinas (g)      276 non-null    float64\n",
            " 7   Sodio (g)          276 non-null    float64\n",
            " 8   Sodio (mg)         276 non-null    float64\n",
            "dtypes: float64(5), int64(1), object(3)\n",
            "memory usage: 19.5+ KB\n",
            "None\n"
          ]
        }
      ],
      "source": [
        "import pandas as pd\n",
        "import numpy as np\n",
        "import matplotlib.pyplot as plt\n",
        "\n",
        "data = pd.read_csv('alimentos.csv')\n",
        "print(data.info())"
      ]
    },
    {
      "cell_type": "markdown",
      "source": [
        "## Seleccion de datos"
      ],
      "metadata": {
        "id": "NiFX4GYo6w5R"
      }
    },
    {
      "cell_type": "code",
      "source": [
        "from sklearn.model_selection import train_test_split\n",
        "import seaborn as sns"
      ],
      "metadata": {
        "id": "cjO12tDsG7E6"
      },
      "execution_count": 465,
      "outputs": []
    },
    {
      "cell_type": "code",
      "source": [
        "# El modelo predecira la cantida de calorias de un alimento a partir del contenido de carbohidratos, lipidos, proteinas y sodio del mismo; de este modo eliminamos las demas columnas, no necesarias\n",
        "# Eliminamos las columnas que no necesitamos\n",
        "data = data.drop(['Fecha', 'Hora', 'Nombre', 'Sodio (mg)'], axis=1)"
      ],
      "metadata": {
        "id": "HjmvFFnbjOVc"
      },
      "execution_count": 466,
      "outputs": []
    },
    {
      "cell_type": "code",
      "source": [
        "corrMatrix = data.corr()\n",
        "sns.heatmap(corrMatrix, annot=True)\n",
        "plt.show()"
      ],
      "metadata": {
        "colab": {
          "base_uri": "https://localhost:8080/",
          "height": 347
        },
        "id": "6h2KeK82s5--",
        "outputId": "f50bf464-3194-4e0c-ed6e-803998cab6fa"
      },
      "execution_count": 467,
      "outputs": [
        {
          "output_type": "display_data",
          "data": {
            "text/plain": [
              "<Figure size 432x288 with 2 Axes>"
            ],
            "image/png": "[encoded data removed]"
          },
          "metadata": {
            "needs_background": "light"
          }
        }
      ]
    },
    {
      "cell_type": "markdown",
      "source": [
        "A partir de la matriz de correlacion podemos observar que las 2 variables independientes que más aportan información son los Carbohidratos y los Lípidos, es por ello que se seleccionan para realizar un primer modelo."
      ],
      "metadata": {
        "id": "zq-loGxcs9hh"
      }
    },
    {
      "cell_type": "code",
      "source": [
        "# Realizamos una seleccion aleatoria de datos para entrenamiento, validacion y prueba: entrenamiento (60%), validacion (20%) y prueba (20%))\n",
        "columns = ['Calorias (Cal)', 'Carbohidratos (g)', 'Lipidos (g)', 'Proteinas (g)', 'Sodio (g)']\n",
        "\n",
        "# Separacion variables independientes y dependiente\n",
        "x = data[columns[1:]]\n",
        "y = data[columns[0]]\n",
        "\n",
        "# Separación de los datos de entrenamiento.\n",
        "x_train, x_aux, y_train, y_aux = train_test_split(x, y, train_size = 0.6, random_state = 1)\n",
        "\n",
        "x_val, x_test, y_val, y_test = train_test_split(x_aux, y_aux, train_size = 0.5, random_state = 1)\n",
        "\n",
        "\n",
        "print('Total de datos:', len(data))\n",
        "print('No. de datos de entreamiento:', len(x_train))\n",
        "print('No. de datos para validacion:', len(x_val))\n",
        "print('No. de datos para prediccion:', len(x_test))"
      ],
      "metadata": {
        "colab": {
          "base_uri": "https://localhost:8080/"
        },
        "id": "0T0o_fpW6qBA",
        "outputId": "d685b3c2-3e71-4e4f-ef55-a525ba334040"
      },
      "execution_count": 468,
      "outputs": [
        {
          "output_type": "stream",
          "name": "stdout",
          "text": [
            "Total de datos: 276\n",
            "No. de datos de entreamiento: 165\n",
            "No. de datos para validacion: 55\n",
            "No. de datos para prediccion: 56\n"
          ]
        }
      ]
    },
    {
      "cell_type": "code",
      "source": [
        "# Dividimos cada una de las variables dependientes e independientes\n",
        "x1_train = x_train['Carbohidratos (g)']\n",
        "x2_train = x_train['Lipidos (g)']\n",
        "\n",
        "x1_val = x_val['Carbohidratos (g)']\n",
        "x2_val = x_val['Lipidos (g)']\n",
        "\n",
        "x1_test = x_test['Carbohidratos (g)']\n",
        "x2_test = x_test['Lipidos (g)']"
      ],
      "metadata": {
        "id": "aE6yOTBr1Lkr"
      },
      "execution_count": 469,
      "outputs": []
    },
    {
      "cell_type": "markdown",
      "source": [
        "# Generacion del Primer Modelo\n",
        "### Regresión Lineal **Gradiente Descendente**"
      ],
      "metadata": {
        "id": "PArdT5h6qh40"
      }
    },
    {
      "cell_type": "code",
      "source": [
        "# Funcion de Hipotesis\n",
        "h1 = lambda x0, x1, theta: theta[0] + theta[1] *x0 + theta[2] *x1\n",
        "\n",
        "# Funcion auxiliar (parcial) de la funcion de costo\n",
        "j_i1 = lambda x0, x1, y, theta: (h1(x0, x1, theta)-y)**2"
      ],
      "metadata": {
        "id": "KwGOuzs9qhq8"
      },
      "execution_count": 470,
      "outputs": []
    },
    {
      "cell_type": "code",
      "source": [
        "#[3,5,2,2,2]\n",
        "# Parametros e hiper-parametro\n",
        "theta = [1,4,7]\n",
        "alpha = 0.00000001\n",
        "\n",
        "n_iter = 30000"
      ],
      "metadata": {
        "id": "OYdU3um9qw0i"
      },
      "execution_count": 471,
      "outputs": []
    },
    {
      "cell_type": "code",
      "source": [
        "# Datos necesarios para las formulas\n",
        "n_train = len(x_train)\n",
        "n_val = len(x_val)\n",
        "n_test = len(x_test)\n",
        "\n",
        "# Ciclo para iterar n catidad de veces sobre el modelo\n",
        "for idx in range(n_iter):\n",
        "  acumDelta0 = []\n",
        "  acumDelta1 = []\n",
        "  acumDelta2 = []\n",
        "  \n",
        "  for x1, x2, y in zip(x1_train, x2_train, y_train):\n",
        "    acumDelta0.append(h1(x1, x2, theta) - y)\n",
        "    acumDelta1.append(h1(x1, x2, theta) - y * x1)\n",
        "    acumDelta2.append(h1(x1, x2, theta) - y * x2)\n",
        "\n",
        "  # Sumatoria de los deltas calculados anteriormente, que se emplearan para calcular los nuevos thetas\n",
        "  sum_j0 = sum(acumDelta0)\n",
        "  sum_j1 = sum(acumDelta1)\n",
        "  sum_j2 = sum(acumDelta2)\n",
        "\n",
        "  # Calculo de los nuevos thetas (coeficientes del modelo)\n",
        "  theta[0] = theta[0] - alpha / n_train * sum_j0\n",
        "  theta[1] = theta[1] - alpha / n_train * sum_j1\n",
        "  theta[2] = theta[2] - alpha / n_train * sum_j2\n",
        "\n",
        "# Impresion de los thetas obtenidos finalmente\n",
        "print('Thetas calculados:', theta)"
      ],
      "metadata": {
        "colab": {
          "base_uri": "https://localhost:8080/"
        },
        "id": "RYiedfVuq7Y0",
        "outputId": "5c4748ed-6489-4be9-cb41-b2e25e58c98d"
      },
      "execution_count": 472,
      "outputs": [
        {
          "output_type": "stream",
          "name": "stdout",
          "text": [
            "Thetas calculados: [1.002820081419432, 7.242105172328549, 8.174577172328553]\n"
          ]
        }
      ]
    },
    {
      "cell_type": "markdown",
      "source": [
        "# Validacion del Primer Modelo"
      ],
      "metadata": {
        "id": "la1_Ksk5sVLy"
      }
    },
    {
      "cell_type": "code",
      "source": [
        "# Calculo de Error de los datos de entrenamiento\n",
        "acum_delta = []\n",
        "errores = []\n",
        "for x1, x2, y in zip(x1_train, x2_train, y_train):\n",
        "  acum_delta.append(j_i1(x1, x2, y, theta)) \n",
        "\n",
        "sDelta = sum(acum_delta)  \n",
        "j_train = 1/(2*n_train) * sDelta\n",
        "errores.append(j_train)\n",
        "\n",
        "# Calculo de Error con los datos de validacion\n",
        "acum_delta = []\n",
        "for x1, x2, y in zip(x1_val, x2_val, y_val):\n",
        "  acum_delta.append(j_i1(x1, x2, y, theta))  \n",
        "\n",
        "sum_delta = sum(acum_delta)  \n",
        "j_val = 1/(2*n_val)*sum_delta\n",
        "errores.append(j_val)\n",
        "\n",
        "# Calculo de Error con los datos de prueba\n",
        "acum_delta = []\n",
        "for x1, x2, y in zip(x1_test, x2_test, y_test):\n",
        "  acum_delta.append(j_i1(x1, x2, y, theta))  \n",
        "\n",
        "sum_delta = sum(acum_delta)  \n",
        "j_test = 1/(2*n_test)*sum_delta\n",
        "errores.append(j_test)\n",
        "\n",
        "# Impresion del Error con los datos de entrenamiento\n",
        "print('Error de entrenamiento:', j_train)\n",
        "\n",
        "\n",
        "# Impresion del Error de validacion\n",
        "print('Error de validacion:', j_val)\n",
        "\n",
        "# Impresion del Error de prueba\n",
        "print('\\nError de prueba:', j_test)"
      ],
      "metadata": {
        "colab": {
          "base_uri": "https://localhost:8080/"
        },
        "id": "rDFxhmQUsTx6",
        "outputId": "49b6702f-8b77-4884-ab4d-74fc78e3a11f"
      },
      "execution_count": 473,
      "outputs": [
        {
          "output_type": "stream",
          "name": "stdout",
          "text": [
            "Error de entrenamiento: 4444.80598287303\n",
            "Error de validacion: 4433.134251345204\n",
            "\n",
            "Error de prueba: 4724.178819453136\n"
          ]
        }
      ]
    },
    {
      "cell_type": "markdown",
      "source": [
        "# Analisis"
      ],
      "metadata": {
        "id": "HXtJ19fT1RRS"
      }
    },
    {
      "cell_type": "markdown",
      "source": [
        "Error de entrenamiento: 4509.8597\n",
        "\n",
        "Error de validacion: 4139.6499\n",
        "\n",
        "Recordemos que el análisis tiene que ser realizado sobre los datos obtenidos del conjunto de entrenamiento y el de validación.\n",
        "Como se puede observar el error de entrenamiento es elevado e igualmente para el de validación, esto nos empieza a hacer sugerencias sobre la existencias de un **sesgo/bias** alto, esto se visualiza aún más en la siguiente tabla, donde podemos observar el sesgo exagerado para cada una de las predicciones."
      ],
      "metadata": {
        "id": "mK1c2LQ_1TPo"
      }
    },
    {
      "cell_type": "code",
      "source": [
        "y_pred = round(h1(data['Carbohidratos (g)'], data['Lipidos (g)'], theta))\n",
        "\n",
        "comp_table = pd.DataFrame({'Real': data['Calorias (Cal)'], 'Prediccion': y_pred, 'Diferencia / Sesgo': data['Calorias (Cal)'] - y_pred})\n",
        "comp_table.head(10)"
      ],
      "metadata": {
        "colab": {
          "base_uri": "https://localhost:8080/",
          "height": 363
        },
        "id": "4jJnW3UX5qiU",
        "outputId": "0ded8330-19ad-4bd3-f006-817dcc302567"
      },
      "execution_count": 474,
      "outputs": [
        {
          "output_type": "execute_result",
          "data": {
            "text/plain": [
              "   Real  Prediccion  Diferencia / Sesgo\n",
              "0   400       520.0              -120.0\n",
              "1   400       520.0              -120.0\n",
              "2   308       306.0                 2.0\n",
              "3   141       146.0                -5.0\n",
              "4   141       146.0                -5.0\n",
              "5   141       146.0                -5.0\n",
              "6     0         1.0                -1.0\n",
              "7   630       682.0               -52.0\n",
              "8   630       682.0               -52.0\n",
              "9   159       218.0               -59.0"
            ],
            "text/html": [
              "\n",
              "  <div id=\"df-dfbb4ea7-7a83-403c-a388-c0736f1d41ee\">\n",
              "    <div class=\"colab-df-container\">\n",
              "      <div>\n",
              "<style scoped>\n",
              "    .dataframe tbody tr th:only-of-type {\n",
              "        vertical-align: middle;\n",
              "    }\n",
              "\n",
              "    .dataframe tbody tr th {\n",
              "        vertical-align: top;\n",
              "    }\n",
              "\n",
              "    .dataframe thead th {\n",
              "        text-align: right;\n",
              "    }\n",
              "</style>\n",
              "<table border=\"1\" class=\"dataframe\">\n",
              "  <thead>\n",
              "    <tr style=\"text-align: right;\">\n",
              "      <th></th>\n",
              "      <th>Real</th>\n",
              "      <th>Prediccion</th>\n",
              "      <th>Diferencia / Sesgo</th>\n",
              "    </tr>\n",
              "  </thead>\n",
              "  <tbody>\n",
              "    <tr>\n",
              "      <th>0</th>\n",
              "      <td>400</td>\n",
              "      <td>520.0</td>\n",
              "      <td>-120.0</td>\n",
              "    </tr>\n",
              "    <tr>\n",
              "      <th>1</th>\n",
              "      <td>400</td>\n",
              "      <td>520.0</td>\n",
              "      <td>-120.0</td>\n",
              "    </tr>\n",
              "    <tr>\n",
              "      <th>2</th>\n",
              "      <td>308</td>\n",
              "      <td>306.0</td>\n",
              "      <td>2.0</td>\n",
              "    </tr>\n",
              "    <tr>\n",
              "      <th>3</th>\n",
              "      <td>141</td>\n",
              "      <td>146.0</td>\n",
              "      <td>-5.0</td>\n",
              "    </tr>\n",
              "    <tr>\n",
              "      <th>4</th>\n",
              "      <td>141</td>\n",
              "      <td>146.0</td>\n",
              "      <td>-5.0</td>\n",
              "    </tr>\n",
              "    <tr>\n",
              "      <th>5</th>\n",
              "      <td>141</td>\n",
              "      <td>146.0</td>\n",
              "      <td>-5.0</td>\n",
              "    </tr>\n",
              "    <tr>\n",
              "      <th>6</th>\n",
              "      <td>0</td>\n",
              "      <td>1.0</td>\n",
              "      <td>-1.0</td>\n",
              "    </tr>\n",
              "    <tr>\n",
              "      <th>7</th>\n",
              "      <td>630</td>\n",
              "      <td>682.0</td>\n",
              "      <td>-52.0</td>\n",
              "    </tr>\n",
              "    <tr>\n",
              "      <th>8</th>\n",
              "      <td>630</td>\n",
              "      <td>682.0</td>\n",
              "      <td>-52.0</td>\n",
              "    </tr>\n",
              "    <tr>\n",
              "      <th>9</th>\n",
              "      <td>159</td>\n",
              "      <td>218.0</td>\n",
              "      <td>-59.0</td>\n",
              "    </tr>\n",
              "  </tbody>\n",
              "</table>\n",
              "</div>\n",
              "      <button class=\"colab-df-convert\" onclick=\"convertToInteractive('df-dfbb4ea7-7a83-403c-a388-c0736f1d41ee')\"\n",
              "              title=\"Convert this dataframe to an interactive table.\"\n",
              "              style=\"display:none;\">\n",
              "        \n",
              "  <svg xmlns=\"http://www.w3.org/2000/svg\" height=\"24px\"viewBox=\"0 0 24 24\"\n",
              "       width=\"24px\">\n",
              "    <path d=\"M0 0h24v24H0V0z\" fill=\"none\"/>\n",
              "    <path d=\"M18.56 5.44l.94 2.06.94-2.06 2.06-.94-2.06-.94-.94-2.06-.94 2.06-2.06.94zm-11 1L8.5 8.5l.94-2.06 2.06-.94-2.06-.94L8.5 2.5l-.94 2.06-2.06.94zm10 10l.94 2.06.94-2.06 2.06-.94-2.06-.94-.94-2.06-.94 2.06-2.06.94z\"/><path d=\"M17.41 7.96l-1.37-1.37c-.4-.4-.92-.59-1.43-.59-.52 0-1.04.2-1.43.59L10.3 9.45l-7.72 7.72c-.78.78-.78 2.05 0 2.83L4 21.41c.39.39.9.59 1.41.59.51 0 1.02-.2 1.41-.59l7.78-7.78 2.81-2.81c.8-.78.8-2.07 0-2.86zM5.41 20L4 18.59l7.72-7.72 1.47 1.35L5.41 20z\"/>\n",
              "  </svg>\n",
              "      </button>\n",
              "      \n",
              "  <style>\n",
              "    .colab-df-container {\n",
              "      display:flex;\n",
              "      flex-wrap:wrap;\n",
              "      gap: 12px;\n",
              "    }\n",
              "\n",
              "    .colab-df-convert {\n",
              "      background-color: #E8F0FE;\n",
              "      border: none;\n",
              "      border-radius: 50%;\n",
              "      cursor: pointer;\n",
              "      display: none;\n",
              "      fill: #1967D2;\n",
              "      height: 32px;\n",
              "      padding: 0 0 0 0;\n",
              "      width: 32px;\n",
              "    }\n",
              "\n",
              "    .colab-df-convert:hover {\n",
              "      background-color: #E2EBFA;\n",
              "      box-shadow: 0px 1px 2px rgba(60, 64, 67, 0.3), 0px 1px 3px 1px rgba(60, 64, 67, 0.15);\n",
              "      fill: #174EA6;\n",
              "    }\n",
              "\n",
              "    [theme=dark] .colab-df-convert {\n",
              "      background-color: #3B4455;\n",
              "      fill: #D2E3FC;\n",
              "    }\n",
              "\n",
              "    [theme=dark] .colab-df-convert:hover {\n",
              "      background-color: #434B5C;\n",
              "      box-shadow: 0px 1px 3px 1px rgba(0, 0, 0, 0.15);\n",
              "      filter: drop-shadow(0px 1px 2px rgba(0, 0, 0, 0.3));\n",
              "      fill: #FFFFFF;\n",
              "    }\n",
              "  </style>\n",
              "\n",
              "      <script>\n",
              "        const buttonEl =\n",
              "          document.querySelector('#df-dfbb4ea7-7a83-403c-a388-c0736f1d41ee button.colab-df-convert');\n",
              "        buttonEl.style.display =\n",
              "          google.colab.kernel.accessAllowed ? 'block' : 'none';\n",
              "\n",
              "        async function convertToInteractive(key) {\n",
              "          const element = document.querySelector('#df-dfbb4ea7-7a83-403c-a388-c0736f1d41ee');\n",
              "          const dataTable =\n",
              "            await google.colab.kernel.invokeFunction('convertToInteractive',\n",
              "                                                     [key], {});\n",
              "          if (!dataTable) return;\n",
              "\n",
              "          const docLinkHtml = 'Like what you see? Visit the ' +\n",
              "            '<a target=\"_blank\" href=https://colab.research.google.com/notebooks/data_table.ipynb>data table notebook</a>'\n",
              "            + ' to learn more about interactive tables.';\n",
              "          element.innerHTML = '';\n",
              "          dataTable['output_type'] = 'display_data';\n",
              "          await google.colab.output.renderOutput(dataTable, element);\n",
              "          const docLink = document.createElement('div');\n",
              "          docLink.innerHTML = docLinkHtml;\n",
              "          element.appendChild(docLink);\n",
              "        }\n",
              "      </script>\n",
              "    </div>\n",
              "  </div>\n",
              "  "
            ]
          },
          "metadata": {},
          "execution_count": 474
        }
      ]
    },
    {
      "cell_type": "markdown",
      "source": [
        "En la siguiente grafica se observa el sesgo de una manera más visual; si nuestros valores predichos fuese iguales a los esperados, obtendriamos una linea perfecta, como la línea punteada que se observa en la siguiente gráfica, sin embargo, observamos los puntos de predicción lejanos a dicha línea, se hace notorio el sesgo existente."
      ],
      "metadata": {
        "id": "mZi-y4uZrNqy"
      }
    },
    {
      "cell_type": "code",
      "source": [
        "min_val = min(data['Calorias (Cal)'])\n",
        "max_val = max(data['Calorias (Cal)'])\n",
        "\n",
        "plt.scatter(data['Calorias (Cal)'], y_pred, label = \"Predicciones\")\n",
        "plt.plot([min_val, max_val], [min_val, max_val], 'k--', color = 'black', lw=2, label = \"Esperado / Real\")\n",
        "plt.legend(loc =\"upper left\");\n",
        "\n",
        "plt.title('Real vs Predicciones')\n",
        "plt.ylabel(\"Valor Prediccion\")\n",
        "plt.xlabel(\"Valor Real\")"
      ],
      "metadata": {
        "colab": {
          "base_uri": "https://localhost:8080/",
          "height": 312
        },
        "id": "Xr-PADwQXk-F",
        "outputId": "5ee45bd7-0635-4b22-e308-a48ca7566e79"
      },
      "execution_count": 475,
      "outputs": [
        {
          "output_type": "execute_result",
          "data": {
            "text/plain": [
              "Text(0.5, 0, 'Valor Real')"
            ]
          },
          "metadata": {},
          "execution_count": 475
        },
        {
          "output_type": "display_data",
          "data": {
            "text/plain": [
              "<Figure size 432x288 with 1 Axes>"
            ],
            "image/png": "[encoded data removed]"
          },
          "metadata": {
            "needs_background": "light"
          }
        }
      ]
    },
    {
      "cell_type": "markdown",
      "source": [
        "Respecto a la **variación**, al observar los errores podemor ver es baja/media, pues los errores se mantienen dentro de un buen rango, la diferencia es considerablemente baja si comparamos los 3 errores (entrenamiento, prueba, validacion), lo cual sugiere que el modelo tiene un comportamiento similar para todos los conjuntos de datos. La variacion media se hace notar a partir de la siguientes gráficas donde podemos notar que la mayoria de nuestras predicciones se mantienen de manera constante dentro de un rango de error."
      ],
      "metadata": {
        "id": "86bxJHvY-GaQ"
      }
    },
    {
      "cell_type": "code",
      "source": [
        "plt.bar([0,1,2],errores, alpha = .89)\n",
        "plt.plot([0,1,2],errores, c = \"red\", alpha = .9)\n",
        "plt.scatter([0,1,2],errores, c = \"red\", alpha = 1)\n",
        "\n",
        "plt.title(\"Errores: Entrenamiento, Validación, Prueba\")"
      ],
      "metadata": {
        "colab": {
          "base_uri": "https://localhost:8080/",
          "height": 298
        },
        "id": "rz7OIQbubBi0",
        "outputId": "8171e115-4760-46d9-b9d4-8139164c95ba"
      },
      "execution_count": 476,
      "outputs": [
        {
          "output_type": "execute_result",
          "data": {
            "text/plain": [
              "Text(0.5, 1.0, 'Errores: Entrenamiento, Validación, Prueba')"
            ]
          },
          "metadata": {},
          "execution_count": 476
        },
        {
          "output_type": "display_data",
          "data": {
            "text/plain": [
              "<Figure size 432x288 with 1 Axes>"
            ],
            "image/png": "[encoded data removed]"
          },
          "metadata": {
            "needs_background": "light"
          }
        }
      ]
    },
    {
      "cell_type": "code",
      "source": [
        "y_pred = round(h1(data['Lipidos (g)'], data['Proteinas (g)'], theta))\n",
        "aux = list(range(0, len(data)))\n",
        "\n",
        "plt.scatter(aux, y_pred, label ='Prediction')\n",
        "plt.plot(aux, data['Calorias (Cal)'], c = \"red\", label ='Real')\n",
        "plt.legend(loc =\"upper left\");\n",
        "\n",
        "plt.plot(aux, [0] * len(data), c = \"cyan\", alpha = 0.5)\n",
        "plt.plot(aux, [230] * len(data), c = \"cyan\", alpha = 0.5)\n",
        "\n",
        "plt.title('Variacion Real - Predicciones')\n",
        "plt.ylabel(\"Calorias\")\n",
        "plt.xlabel(\"Indice\")\n",
        "plt.show()"
      ],
      "metadata": {
        "colab": {
          "base_uri": "https://localhost:8080/",
          "height": 295
        },
        "id": "G6zD0pH2-GM4",
        "outputId": "65e450a7-52ec-4843-e09a-674771bc8ece"
      },
      "execution_count": 477,
      "outputs": [
        {
          "output_type": "display_data",
          "data": {
            "text/plain": [
              "<Figure size 432x288 with 1 Axes>"
            ],
            "image/png": "[encoded data removed]"
          },
          "metadata": {
            "needs_background": "light"
          }
        }
      ]
    },
    {
      "cell_type": "markdown",
      "source": [
        "Finalmente podemos decir que esta relación de alto bias y una variación media, nos indica la existencia de **underfitt** en el modelo.\n",
        "A raíz de ello, y como se vio a lo largo del curso, para manejar este problema del bajo ajuste del modelo a los datos, se aumentara la complejidad del modelo, para ello se añadiran características que brindaran mayor información para la generación de un modelo más ajustado, así como se ajustaran los hiperparámetros."
      ],
      "metadata": {
        "id": "omm-ki8w7eO5"
      }
    },
    {
      "cell_type": "code",
      "source": [
        "a = comp_table[['Real', 'Prediccion']].head(20)\n",
        "a.plot.bar(rot=0)\n",
        "\n",
        "plt.title(\"Comparación de Calorías Reales y de Predicción\")\n",
        "plt.xlabel(\"Muestras de alimentos\")\n",
        "plt.ylabel(\"Calorías\")"
      ],
      "metadata": {
        "colab": {
          "base_uri": "https://localhost:8080/",
          "height": 312
        },
        "id": "34RJBtmN2Y7X",
        "outputId": "40be2d17-f32f-44c7-a012-7d1c25e7702d"
      },
      "execution_count": 478,
      "outputs": [
        {
          "output_type": "execute_result",
          "data": {
            "text/plain": [
              "Text(0, 0.5, 'Calorías')"
            ]
          },
          "metadata": {},
          "execution_count": 478
        },
        {
          "output_type": "display_data",
          "data": {
            "text/plain": [
              "<Figure size 432x288 with 1 Axes>"
            ],
            "image/png": "[encoded data removed]"
          },
          "metadata": {
            "needs_background": "light"
          }
        }
      ]
    },
    {
      "cell_type": "markdown",
      "source": [
        "# Generacion del modelo Optimizado\n",
        "### Regresión Lineal **Gradiente Descendente**"
      ],
      "metadata": {
        "id": "Zz6pXKFTCaMP"
      }
    },
    {
      "cell_type": "markdown",
      "source": [
        "Añadimos las variables que entregaran más informacion al modelo."
      ],
      "metadata": {
        "id": "FTmc0V9WnC1Y"
      }
    },
    {
      "cell_type": "code",
      "source": [
        "# Funcion de Hipotesis\n",
        "h = lambda x0, x1, x2, x3, theta: theta[0] + theta[1] *x0 + theta[2] *x1 + theta[3] *x2 + theta[4] *x3\n",
        "\n",
        "# Funcion auxiliar (parcial) de la funcion de costo\n",
        "j_i = lambda x0, x1, x2, x3, y, theta: (h(x0, x1, x2, x3, theta)-y)**2"
      ],
      "metadata": {
        "id": "CL4wf9V4CiZM"
      },
      "execution_count": 479,
      "outputs": []
    },
    {
      "cell_type": "markdown",
      "source": [
        "Obtenemos los datos nuevos a utilizar:"
      ],
      "metadata": {
        "id": "IEvCQxhfnN7K"
      }
    },
    {
      "cell_type": "code",
      "source": [
        "x3_train = x_train['Proteinas (g)']\n",
        "x4_train = x_train['Sodio (g)']\n",
        "\n",
        "x3_val = x_val['Proteinas (g)']\n",
        "x4_val = x_val['Sodio (g)']\n",
        "\n",
        "x3_test = x_test['Proteinas (g)']\n",
        "x4_test = x_test['Sodio (g)']"
      ],
      "metadata": {
        "id": "j1nYkV9znTWj"
      },
      "execution_count": 480,
      "outputs": []
    },
    {
      "cell_type": "code",
      "source": [
        "# Parametros e hiper-parametros\n",
        "theta = [0,4,8,3,-2]\n",
        "alpha = 0.0000000065\n",
        "\n",
        "n_iter = 10000"
      ],
      "metadata": {
        "id": "th_JSa_LQv9P"
      },
      "execution_count": 481,
      "outputs": []
    },
    {
      "cell_type": "code",
      "source": [
        "# Ciclo para iterar n catidad de veces sobre el modelo\n",
        "for idx in range(n_iter):\n",
        "  acumDelta0 = []\n",
        "  acumDelta1 = []\n",
        "  acumDelta2 = []\n",
        "  acumDelta3 = []\n",
        "  acumDelta4 = []\n",
        "  \n",
        "  for x1, x2, x3, x4, y in zip(x1_train, x2_train, x3_train, x4_train, y_train):\n",
        "    acumDelta0.append(h(x1, x2, x3, x4, theta) - y)\n",
        "    acumDelta1.append(h(x1, x2, x3, x4, theta) - y * x1)\n",
        "    acumDelta2.append(h(x1, x2, x3, x4, theta) - y * x2)\n",
        "    acumDelta3.append(h(x1, x2, x3, x4, theta) - y * x3)\n",
        "    acumDelta4.append(h(x1, x2, x3, x4, theta) - y * x4)\n",
        "\n",
        "  # Sumatoria de los deltas calculados anteriormente, que se emplearan para calcular los nuevos thetas\n",
        "  sum_j0 = sum(acumDelta0)\n",
        "  sum_j1 = sum(acumDelta1)\n",
        "  sum_j2 = sum(acumDelta2)\n",
        "  sum_j3 = sum(acumDelta3)\n",
        "  sum_j4 = sum(acumDelta4)\n",
        "\n",
        "  # Calculo de los nuevos thetas (coeficientes del modelo)\n",
        "  theta[0] = theta[0] - alpha / n_train * sum_j0\n",
        "  theta[1] = theta[1] - alpha / n_train * sum_j1\n",
        "  theta[2] = theta[2] - alpha / n_train * sum_j2\n",
        "  theta[3] = theta[3] - alpha / n_train * sum_j3\n",
        "  theta[4] = theta[4] - alpha / n_train * sum_j4\n",
        "\n",
        "# Impresion de los thetas obtenidos finalmente\n",
        "print('Thetas calculados:', theta)"
      ],
      "metadata": {
        "id": "c10t4xy4CT6s",
        "colab": {
          "base_uri": "https://localhost:8080/"
        },
        "outputId": "6a4e926a-9397-4363-e8e4-7ce7fe133474"
      },
      "execution_count": 482,
      "outputs": [
        {
          "output_type": "stream",
          "name": "stdout",
          "text": [
            "Thetas calculados: [0.0008566099408843958, 4.70270171297117, 8.254737312971152, 3.2281203250923927, -2.0047326860894197]\n"
          ]
        }
      ]
    },
    {
      "cell_type": "markdown",
      "source": [
        "## Validacion del modelo"
      ],
      "metadata": {
        "id": "rwjN5BuaKWml"
      }
    },
    {
      "cell_type": "code",
      "source": [
        "# Calculo de Error de los datos de entrenamiento\n",
        "acum_delta = []\n",
        "errores = []\n",
        "\n",
        "for x1, x2, x3, x4, y in zip(x1_train, x2_train, x3_train, x4_train, y_train):\n",
        "  acum_delta.append(j_i(x1, x2, x3, x4, y, theta)) \n",
        "\n",
        "sDelta = sum(acum_delta)  \n",
        "j_train = 1/(2*n_train) * sDelta\n",
        "errores.append(j_train)\n",
        "\n",
        "# Calculo de Error con los datos de validacion\n",
        "acum_delta = []\n",
        "for x1, x2, x3, x4, y in zip(x1_val, x2_val, x3_val, x4_val, y_val):\n",
        "  acum_delta.append(j_i(x1, x2, x3, x4, y, theta))  \n",
        "\n",
        "sum_delta = sum(acum_delta)  \n",
        "j_val = 1/(2*n_val)*sum_delta\n",
        "errores.append(j_val)\n",
        "\n",
        "# Calculo de Error con los datos de prueba\n",
        "acum_delta = []\n",
        "for x1, x2, x3, x4, y in zip(x1_test, x2_test, x3_test, x4_test, y_test):\n",
        "  acum_delta.append(j_i(x1, x2, x3, x4, y, theta))  \n",
        "\n",
        "sum_delta = sum(acum_delta)  \n",
        "j_test = 1/(2*n_test)*sum_delta\n",
        "errores.append(j_test)\n",
        "\n",
        "# Impresion del Error con los datos de entrenamiento\n",
        "print('Error de entrenamiento:', j_train)\n",
        "\n",
        "\n",
        "# Impresion del Error de validacion\n",
        "print('Error de validacion:', j_val)\n",
        "\n",
        "# Impresion del Error de prueba\n",
        "print('\\nError de prueba:', j_test)"
      ],
      "metadata": {
        "id": "P13GDSKnCnR4",
        "colab": {
          "base_uri": "https://localhost:8080/"
        },
        "outputId": "a03f4c47-a371-4b7d-8ae3-6ad3145ea453"
      },
      "execution_count": 483,
      "outputs": [
        {
          "output_type": "stream",
          "name": "stdout",
          "text": [
            "Error de entrenamiento: 242.73001666041824\n",
            "Error de validacion: 242.67793104950277\n",
            "\n",
            "Error de prueba: 214.98745055718473\n"
          ]
        }
      ]
    },
    {
      "cell_type": "markdown",
      "source": [
        "# Analisis"
      ],
      "metadata": {
        "id": "jZZAbWEZvOnW"
      }
    },
    {
      "cell_type": "markdown",
      "source": [
        "Error de entrenamiento: 242.7300\n",
        "\n",
        "Error de validacion: 242.6779\n",
        "\n",
        "Podemos observar que el sesgo de nuesmo modelo bajo notablemente gracias que se realiazó un modelo más complejo, en la siguiente gráfica podemos observar evidentemente que los datos de predicción se encuntran mucho más apegados a la recta deseada."
      ],
      "metadata": {
        "id": "c0OdQHZXvYf7"
      }
    },
    {
      "cell_type": "code",
      "source": [
        "y_pred = round(h(data['Carbohidratos (g)'], data['Lipidos (g)'], data['Proteinas (g)'] , data['Sodio (g)'], theta))\n",
        "comp_table = pd.DataFrame({'Real': data['Calorias (Cal)'], 'Prediccion': y_pred, 'Diferencia / Sesgo': data['Calorias (Cal)'] - y_pred})"
      ],
      "metadata": {
        "id": "_ZV6TNGZwV3k"
      },
      "execution_count": 484,
      "outputs": []
    },
    {
      "cell_type": "code",
      "source": [
        "plt.scatter(data['Calorias (Cal)'], y_pred, label = \"Predicciones\")\n",
        "plt.plot([min_val, max_val], [min_val, max_val], 'k--', color = 'black', lw=2, label = \"Esperado / Real\")\n",
        "plt.legend(loc =\"upper left\");\n",
        "\n",
        "plt.title('Real vs Predicciones')\n",
        "plt.ylabel(\"Valor Prediccion\")\n",
        "plt.xlabel(\"Valor Real\")"
      ],
      "metadata": {
        "colab": {
          "base_uri": "https://localhost:8080/",
          "height": 312
        },
        "id": "dmHCg07IvNph",
        "outputId": "1ab2bc3d-ace2-4d49-bee7-3b70d19a8880"
      },
      "execution_count": 485,
      "outputs": [
        {
          "output_type": "execute_result",
          "data": {
            "text/plain": [
              "Text(0.5, 0, 'Valor Real')"
            ]
          },
          "metadata": {},
          "execution_count": 485
        },
        {
          "output_type": "display_data",
          "data": {
            "text/plain": [
              "<Figure size 432x288 with 1 Axes>"
            ],
            "image/png": "[encoded data removed]"
          },
          "metadata": {
            "needs_background": "light"
          }
        }
      ]
    },
    {
      "cell_type": "markdown",
      "source": [
        "Por otro lado, en la tabla podemos observar las numerarias del sesgo mucho más pequeñas comparadas con la tabla del primer modelo"
      ],
      "metadata": {
        "id": "41B6z3OJwR03"
      }
    },
    {
      "cell_type": "code",
      "source": [
        "comp_table.head(10)"
      ],
      "metadata": {
        "colab": {
          "base_uri": "https://localhost:8080/",
          "height": 363
        },
        "id": "QPInxTc-wSaC",
        "outputId": "024f854e-345e-42aa-a06e-a56a43d13b75"
      },
      "execution_count": 486,
      "outputs": [
        {
          "output_type": "execute_result",
          "data": {
            "text/plain": [
              "   Real  Prediccion  Diferencia / Sesgo\n",
              "0   400       415.0               -15.0\n",
              "1   400       415.0               -15.0\n",
              "2   308       289.0                19.0\n",
              "3   141       136.0                 5.0\n",
              "4   141       136.0                 5.0\n",
              "5   141       136.0                 5.0\n",
              "6     0        -0.0                 0.0\n",
              "7   630       671.0               -41.0\n",
              "8   630       671.0               -41.0\n",
              "9   159       168.0                -9.0"
            ],
            "text/html": [
              "\n",
              "  <div id=\"df-34ca685e-5dc5-4215-a3f6-38aa2d698d7f\">\n",
              "    <div class=\"colab-df-container\">\n",
              "      <div>\n",
              "<style scoped>\n",
              "    .dataframe tbody tr th:only-of-type {\n",
              "        vertical-align: middle;\n",
              "    }\n",
              "\n",
              "    .dataframe tbody tr th {\n",
              "        vertical-align: top;\n",
              "    }\n",
              "\n",
              "    .dataframe thead th {\n",
              "        text-align: right;\n",
              "    }\n",
              "</style>\n",
              "<table border=\"1\" class=\"dataframe\">\n",
              "  <thead>\n",
              "    <tr style=\"text-align: right;\">\n",
              "      <th></th>\n",
              "      <th>Real</th>\n",
              "      <th>Prediccion</th>\n",
              "      <th>Diferencia / Sesgo</th>\n",
              "    </tr>\n",
              "  </thead>\n",
              "  <tbody>\n",
              "    <tr>\n",
              "      <th>0</th>\n",
              "      <td>400</td>\n",
              "      <td>415.0</td>\n",
              "      <td>-15.0</td>\n",
              "    </tr>\n",
              "    <tr>\n",
              "      <th>1</th>\n",
              "      <td>400</td>\n",
              "      <td>415.0</td>\n",
              "      <td>-15.0</td>\n",
              "    </tr>\n",
              "    <tr>\n",
              "      <th>2</th>\n",
              "      <td>308</td>\n",
              "      <td>289.0</td>\n",
              "      <td>19.0</td>\n",
              "    </tr>\n",
              "    <tr>\n",
              "      <th>3</th>\n",
              "      <td>141</td>\n",
              "      <td>136.0</td>\n",
              "      <td>5.0</td>\n",
              "    </tr>\n",
              "    <tr>\n",
              "      <th>4</th>\n",
              "      <td>141</td>\n",
              "      <td>136.0</td>\n",
              "      <td>5.0</td>\n",
              "    </tr>\n",
              "    <tr>\n",
              "      <th>5</th>\n",
              "      <td>141</td>\n",
              "      <td>136.0</td>\n",
              "      <td>5.0</td>\n",
              "    </tr>\n",
              "    <tr>\n",
              "      <th>6</th>\n",
              "      <td>0</td>\n",
              "      <td>-0.0</td>\n",
              "      <td>0.0</td>\n",
              "    </tr>\n",
              "    <tr>\n",
              "      <th>7</th>\n",
              "      <td>630</td>\n",
              "      <td>671.0</td>\n",
              "      <td>-41.0</td>\n",
              "    </tr>\n",
              "    <tr>\n",
              "      <th>8</th>\n",
              "      <td>630</td>\n",
              "      <td>671.0</td>\n",
              "      <td>-41.0</td>\n",
              "    </tr>\n",
              "    <tr>\n",
              "      <th>9</th>\n",
              "      <td>159</td>\n",
              "      <td>168.0</td>\n",
              "      <td>-9.0</td>\n",
              "    </tr>\n",
              "  </tbody>\n",
              "</table>\n",
              "</div>\n",
              "      <button class=\"colab-df-convert\" onclick=\"convertToInteractive('df-34ca685e-5dc5-4215-a3f6-38aa2d698d7f')\"\n",
              "              title=\"Convert this dataframe to an interactive table.\"\n",
              "              style=\"display:none;\">\n",
              "        \n",
              "  <svg xmlns=\"http://www.w3.org/2000/svg\" height=\"24px\"viewBox=\"0 0 24 24\"\n",
              "       width=\"24px\">\n",
              "    <path d=\"M0 0h24v24H0V0z\" fill=\"none\"/>\n",
              "    <path d=\"M18.56 5.44l.94 2.06.94-2.06 2.06-.94-2.06-.94-.94-2.06-.94 2.06-2.06.94zm-11 1L8.5 8.5l.94-2.06 2.06-.94-2.06-.94L8.5 2.5l-.94 2.06-2.06.94zm10 10l.94 2.06.94-2.06 2.06-.94-2.06-.94-.94-2.06-.94 2.06-2.06.94z\"/><path d=\"M17.41 7.96l-1.37-1.37c-.4-.4-.92-.59-1.43-.59-.52 0-1.04.2-1.43.59L10.3 9.45l-7.72 7.72c-.78.78-.78 2.05 0 2.83L4 21.41c.39.39.9.59 1.41.59.51 0 1.02-.2 1.41-.59l7.78-7.78 2.81-2.81c.8-.78.8-2.07 0-2.86zM5.41 20L4 18.59l7.72-7.72 1.47 1.35L5.41 20z\"/>\n",
              "  </svg>\n",
              "      </button>\n",
              "      \n",
              "  <style>\n",
              "    .colab-df-container {\n",
              "      display:flex;\n",
              "      flex-wrap:wrap;\n",
              "      gap: 12px;\n",
              "    }\n",
              "\n",
              "    .colab-df-convert {\n",
              "      background-color: #E8F0FE;\n",
              "      border: none;\n",
              "      border-radius: 50%;\n",
              "      cursor: pointer;\n",
              "      display: none;\n",
              "      fill: #1967D2;\n",
              "      height: 32px;\n",
              "      padding: 0 0 0 0;\n",
              "      width: 32px;\n",
              "    }\n",
              "\n",
              "    .colab-df-convert:hover {\n",
              "      background-color: #E2EBFA;\n",
              "      box-shadow: 0px 1px 2px rgba(60, 64, 67, 0.3), 0px 1px 3px 1px rgba(60, 64, 67, 0.15);\n",
              "      fill: #174EA6;\n",
              "    }\n",
              "\n",
              "    [theme=dark] .colab-df-convert {\n",
              "      background-color: #3B4455;\n",
              "      fill: #D2E3FC;\n",
              "    }\n",
              "\n",
              "    [theme=dark] .colab-df-convert:hover {\n",
              "      background-color: #434B5C;\n",
              "      box-shadow: 0px 1px 3px 1px rgba(0, 0, 0, 0.15);\n",
              "      filter: drop-shadow(0px 1px 2px rgba(0, 0, 0, 0.3));\n",
              "      fill: #FFFFFF;\n",
              "    }\n",
              "  </style>\n",
              "\n",
              "      <script>\n",
              "        const buttonEl =\n",
              "          document.querySelector('#df-34ca685e-5dc5-4215-a3f6-38aa2d698d7f button.colab-df-convert');\n",
              "        buttonEl.style.display =\n",
              "          google.colab.kernel.accessAllowed ? 'block' : 'none';\n",
              "\n",
              "        async function convertToInteractive(key) {\n",
              "          const element = document.querySelector('#df-34ca685e-5dc5-4215-a3f6-38aa2d698d7f');\n",
              "          const dataTable =\n",
              "            await google.colab.kernel.invokeFunction('convertToInteractive',\n",
              "                                                     [key], {});\n",
              "          if (!dataTable) return;\n",
              "\n",
              "          const docLinkHtml = 'Like what you see? Visit the ' +\n",
              "            '<a target=\"_blank\" href=https://colab.research.google.com/notebooks/data_table.ipynb>data table notebook</a>'\n",
              "            + ' to learn more about interactive tables.';\n",
              "          element.innerHTML = '';\n",
              "          dataTable['output_type'] = 'display_data';\n",
              "          await google.colab.output.renderOutput(dataTable, element);\n",
              "          const docLink = document.createElement('div');\n",
              "          docLink.innerHTML = docLinkHtml;\n",
              "          element.appendChild(docLink);\n",
              "        }\n",
              "      </script>\n",
              "    </div>\n",
              "  </div>\n",
              "  "
            ]
          },
          "metadata": {},
          "execution_count": 486
        }
      ]
    },
    {
      "cell_type": "markdown",
      "source": [
        "Respecto a la **variación** podemos observar en las gráficas una vez más que esta se mantiene como baja, pues los errores son muy parecidos en los 3 conjuntos de datos, el modelo reacciona de forma similar para cualquier conjunto de datos."
      ],
      "metadata": {
        "id": "lzrHfpuhzrNx"
      }
    },
    {
      "cell_type": "code",
      "source": [
        "plt.bar([0,1,2],errores, alpha = .89)\n",
        "plt.plot([0,1,2],errores, c = \"red\", alpha = .9)\n",
        "plt.scatter([0,1,2],errores, c = \"red\", alpha = 1)\n",
        "\n",
        "plt.title(\"Errores: Entrenamiento, Validación, Prueba\")"
      ],
      "metadata": {
        "colab": {
          "base_uri": "https://localhost:8080/",
          "height": 298
        },
        "id": "1lddgHYrzroL",
        "outputId": "9be8fcf3-8e60-4bd8-bcd7-9286fc6cdcb8"
      },
      "execution_count": 487,
      "outputs": [
        {
          "output_type": "execute_result",
          "data": {
            "text/plain": [
              "Text(0.5, 1.0, 'Errores: Entrenamiento, Validación, Prueba')"
            ]
          },
          "metadata": {},
          "execution_count": 487
        },
        {
          "output_type": "display_data",
          "data": {
            "text/plain": [
              "<Figure size 432x288 with 1 Axes>"
            ],
            "image/png": "[encoded data removed]"
          },
          "metadata": {
            "needs_background": "light"
          }
        }
      ]
    },
    {
      "cell_type": "code",
      "source": [
        "aux = list(range(0, len(data)))\n",
        "\n",
        "plt.scatter(aux, y_pred, label ='Prediction')\n",
        "plt.plot(aux, data['Calorias (Cal)'], c = \"red\", label ='Real')\n",
        "plt.legend(loc =\"upper left\");\n",
        "\n",
        "\n",
        "plt.title('Variacion Real - Predicciones')\n",
        "plt.ylabel(\"Calorias\")\n",
        "plt.xlabel(\"Indice\")\n",
        "plt.show()"
      ],
      "metadata": {
        "colab": {
          "base_uri": "https://localhost:8080/",
          "height": 295
        },
        "id": "qGjUeiB60qR3",
        "outputId": "960f33d3-5bcd-42a6-cae7-93529dbfd9bd"
      },
      "execution_count": 488,
      "outputs": [
        {
          "output_type": "display_data",
          "data": {
            "text/plain": [
              "<Figure size 432x288 with 1 Axes>"
            ],
            "image/png": "[encoded data removed]"
          },
          "metadata": {
            "needs_background": "light"
          }
        }
      ]
    },
    {
      "cell_type": "markdown",
      "source": [
        "Finalmente observamos una gráfica de comparaciones entre los valores reales y los predichos donde se puede observar un mejora muy notable con respecto al primer modelo luego de haber tratado con el sesgo de la manera correcta."
      ],
      "metadata": {
        "id": "5MkzxSYj3P5M"
      }
    },
    {
      "cell_type": "code",
      "source": [
        "a = comp_table[['Real', 'Prediccion']].head(20)\n",
        "a.plot.bar(rot=0)\n",
        "\n",
        "plt.title(\"Comparación de Calorías Reales y de Predicción\")\n",
        "plt.xlabel(\"Muestras de alimentos\")\n",
        "plt.ylabel(\"Calorías\")"
      ],
      "metadata": {
        "colab": {
          "base_uri": "https://localhost:8080/",
          "height": 312
        },
        "id": "rxY_LP7s1YwL",
        "outputId": "d8bb233c-c7cc-476e-b4f2-a4d9c27de21a"
      },
      "execution_count": 489,
      "outputs": [
        {
          "output_type": "execute_result",
          "data": {
            "text/plain": [
              "Text(0, 0.5, 'Calorías')"
            ]
          },
          "metadata": {},
          "execution_count": 489
        },
        {
          "output_type": "display_data",
          "data": {
            "text/plain": [
              "<Figure size 432x288 with 1 Axes>"
            ],
            "image/png": "[encoded data removed]"
          },
          "metadata": {
            "needs_background": "light"
          }
        }
      ]
    }
  ]
}